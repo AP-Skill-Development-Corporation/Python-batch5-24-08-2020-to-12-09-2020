{
 "cells": [
  {
   "cell_type": "markdown",
   "metadata": {},
   "source": [
    "#### Anaconda\n",
    "- Anaconda software is popular for python libraries which are used in data science\n",
    "- saves time without importing other libraries seperately\n",
    "#### Jupyter\n",
    "- Jupyter notebook is a open source web application which allows to create and share documents that contain code,visualization and narrative text."
   ]
  },
  {
   "cell_type": "markdown",
   "metadata": {},
   "source": [
    "### Literate Programming\n",
    "- combination of coding and documentation introduced by Donald Knuth in which a program is given as an explanation of the program logic in a natural language"
   ]
  },
  {
   "cell_type": "markdown",
   "metadata": {},
   "source": [
    "# heading1\n",
    "## heading2 \n",
    "### heading3\n",
    "#### heading 4\n",
    "##### heading 5\n",
    "###### heading 6"
   ]
  },
  {
   "cell_type": "markdown",
   "metadata": {},
   "source": [
    "- line 1\n",
    "* line 2\n",
    "- bold **bold text**\n",
    "- italic *italic*\n",
    "- bold and italic ***bold and italic***\n",
    "- list\n",
    "    - sublist1\n",
    "    - sublist2\n",
    "    \n",
    "- ordered list\n",
    ">1. ordered list1\n",
    ">2. ordered list2\n",
    "<img src=\"picture.jpg\">"
   ]
  },
  {
   "cell_type": "markdown",
   "metadata": {},
   "source": [
    "- shorcuts\n",
    "    - markdown - esc + m\n",
    "    - code     - esc + y\n",
    "    - run      - shift + enter"
   ]
  },
  {
   "cell_type": "code",
   "execution_count": 2,
   "metadata": {},
   "outputs": [
    {
     "name": "stdout",
     "output_type": "stream",
     "text": [
      "welcome to python programing\n"
     ]
    }
   ],
   "source": [
    "print(\"welcome to python programing\")"
   ]
  },
  {
   "cell_type": "code",
   "execution_count": null,
   "metadata": {},
   "outputs": [],
   "source": []
  }
 ],
 "metadata": {
  "kernelspec": {
   "display_name": "Python 3",
   "language": "python",
   "name": "python3"
  },
  "language_info": {
   "codemirror_mode": {
    "name": "ipython",
    "version": 3
   },
   "file_extension": ".py",
   "mimetype": "text/x-python",
   "name": "python",
   "nbconvert_exporter": "python",
   "pygments_lexer": "ipython3",
   "version": "3.7.1"
  }
 },
 "nbformat": 4,
 "nbformat_minor": 2
}
