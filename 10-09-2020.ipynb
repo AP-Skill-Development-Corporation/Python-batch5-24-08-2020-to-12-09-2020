{
 "cells": [
  {
   "cell_type": "markdown",
   "metadata": {},
   "source": [
    "- Files\n",
    "    - what is file\n",
    "    - what is file handling\n",
    "    - file methods\n",
    "    - different modes\n",
    "    - file processing methods\n",
    "    - Use of 'with' statement\n"
   ]
  },
  {
   "cell_type": "markdown",
   "metadata": {},
   "source": [
    "- File\n",
    "    - File is a named location on desktop used to store some related information\n",
    "    - ex: .txt,.ipynb, .mp4,.mp3, .pdf,.png, .jpg, .doc etc\n",
    "    "
   ]
  },
  {
   "cell_type": "markdown",
   "metadata": {},
   "source": [
    "- File handling\n",
    "    - CRUD\n",
    "    - Creating, Reading,Updating, Delete\n",
    "    - Python too supports file handling and allow users to handle files."
   ]
  },
  {
   "cell_type": "markdown",
   "metadata": {},
   "source": [
    "- file methods\n",
    "\n",
    "    - create\n",
    "    - open\n",
    "    - work\n",
    "    - close\n",
    "    "
   ]
  },
  {
   "cell_type": "markdown",
   "metadata": {},
   "source": [
    "- different modes\n",
    "\n",
    "- r : read mode {default mode}\n",
    "- w : write mode\n",
    "- a : append mode\n",
    "- r+ : both read and write mode\n",
    "- w+ : both write and read mode\n",
    "- a+ : both append and read mode\n",
    "\n"
   ]
  },
  {
   "cell_type": "markdown",
   "metadata": {},
   "source": [
    "- file processing \n",
    "    - Syntax for file opening\n",
    "        - file_obj = open('filename','filemode')\n",
    "    - Syntax for file closing\n",
    "        - file_obj.close()\n",
    "    - Syntax for reading file data\n",
    "        - file_obj.read(size)\n",
    "        "
   ]
  },
  {
   "cell_type": "markdown",
   "metadata": {},
   "source": [
    "- use of with statement\n",
    "     - best way to close a file by using the with statement\n",
    "     - Syntax:\n",
    "         - with open('filename','filemode') as file_object:"
   ]
  },
  {
   "cell_type": "code",
   "execution_count": 22,
   "metadata": {},
   "outputs": [
    {
     "name": "stdout",
     "output_type": "stream",
     "text": [
      "Opened successfully\n"
     ]
    }
   ],
   "source": [
    "## opening a file\n",
    "\n",
    "f = open('nandini.txt','r')\n",
    "if f:\n",
    "    print('Opened successfully')\n",
    "f.close()\n",
    "\n",
    "    "
   ]
  },
  {
   "cell_type": "code",
   "execution_count": 23,
   "metadata": {},
   "outputs": [
    {
     "name": "stdout",
     "output_type": "stream",
     "text": [
      "Good evening all \n",
      "Welcome to online python workshop which will be conducted by APSSDC\n"
     ]
    }
   ],
   "source": [
    "## reading the data\n",
    "\n",
    "f = open('nandini.txt')\n",
    "data = f.read()\n",
    "print(data)\n",
    "f.close()\n",
    "\n",
    "\n"
   ]
  },
  {
   "cell_type": "code",
   "execution_count": 26,
   "metadata": {},
   "outputs": [
    {
     "name": "stdout",
     "output_type": "stream",
     "text": [
      "Good evening all \n"
     ]
    }
   ],
   "source": [
    "f = open('nandini.txt')\n",
    "data = f.read(17)\n",
    "print(data)\n",
    "f.close()\n"
   ]
  },
  {
   "cell_type": "code",
   "execution_count": 27,
   "metadata": {},
   "outputs": [],
   "source": [
    "a = open('apssdc.txt','w')\n"
   ]
  },
  {
   "cell_type": "code",
   "execution_count": 28,
   "metadata": {},
   "outputs": [],
   "source": [
    "b = open ('rain.txt','w')"
   ]
  },
  {
   "cell_type": "code",
   "execution_count": 29,
   "metadata": {},
   "outputs": [],
   "source": [
    "with open('nandini.txt','w') as f:\n",
    "    f.write(\"\\nStay home stay safe\")"
   ]
  },
  {
   "cell_type": "code",
   "execution_count": 30,
   "metadata": {},
   "outputs": [],
   "source": [
    "with open('nandini.txt','a') as f:\n",
    "    f.write(\"\\nThank you\")"
   ]
  },
  {
   "cell_type": "markdown",
   "metadata": {},
   "source": [
    "- File objective methods\n",
    "\n",
    "    -  seek()\n",
    "        - Used to change the cursor position\n",
    "    -  tell()\n",
    "        - Used to know the cursor position\n",
    "        "
   ]
  },
  {
   "cell_type": "code",
   "execution_count": 40,
   "metadata": {},
   "outputs": [
    {
     "name": "stdout",
     "output_type": "stream",
     "text": [
      "8\n",
      "12\n"
     ]
    }
   ],
   "source": [
    "f = open('nandini.txt')\n",
    "data = f.read(8)\n",
    "print(f.tell())\n",
    "f.seek(12)\n",
    "print(f.tell())\n",
    "f.close()"
   ]
  },
  {
   "cell_type": "code",
   "execution_count": 44,
   "metadata": {},
   "outputs": [
    {
     "name": "stdout",
     "output_type": "stream",
     "text": [
      "Stay home stay safe\n",
      "Thank you\n",
      "sdfjasld\n",
      "owieruoi\n",
      "cmvnxc,m\n",
      "oweiru\n",
      "sdkfjlde97r\n",
      "\n"
     ]
    }
   ],
   "source": [
    "## reading and printing data of file by using functions\n",
    "\n",
    "def readFile(filename):\n",
    "    with open(filename,'r') as f:\n",
    "        filedata = f.read()\n",
    "    return filedata\n",
    "\n",
    "print(readFile('nandini.txt'))"
   ]
  },
  {
   "cell_type": "code",
   "execution_count": 45,
   "metadata": {},
   "outputs": [
    {
     "name": "stdout",
     "output_type": "stream",
     "text": [
      "8\n"
     ]
    }
   ],
   "source": [
    "## read lines in a file\n",
    "\n",
    "def readLines(filename):\n",
    "    return len(readFile(filename).split('\\n'))\n",
    "print(readLines('nandini.txt'))"
   ]
  },
  {
   "cell_type": "code",
   "execution_count": 46,
   "metadata": {},
   "outputs": [
    {
     "name": "stdout",
     "output_type": "stream",
     "text": [
      "8\n"
     ]
    }
   ],
   "source": [
    "def read_lines(filename):\n",
    "    with open(filename) as f:\n",
    "        filedata = f.read()\n",
    "    return len(filedata.split('\\n'))\n",
    "\n",
    "print(read_lines('nandini.txt'))\n",
    "        "
   ]
  },
  {
   "cell_type": "code",
   "execution_count": 49,
   "metadata": {},
   "outputs": [
    {
     "data": {
      "text/plain": [
       "15"
      ]
     },
     "execution_count": 49,
     "metadata": {},
     "output_type": "execute_result"
    }
   ],
   "source": [
    "### number of words in file\n",
    "\n",
    "def no_words(filename):\n",
    "    c = 0\n",
    "    with open(filename,'r') as f:\n",
    "        filedata = f.readlines()\n",
    "        for line in filedata:\n",
    "            words_list = line.split()\n",
    "            c = c+len(words_list)\n",
    "    return c\n",
    "no_words('nandini.txt')\n",
    "\n",
    "            \n",
    "            "
   ]
  },
  {
   "cell_type": "code",
   "execution_count": 47,
   "metadata": {},
   "outputs": [
    {
     "name": "stdout",
     "output_type": "stream",
     "text": [
      "[['asf', 'dlkfj', 'oertu']]\n"
     ]
    }
   ],
   "source": [
    "l = ['asf dlkfj oertu']\n",
    "k = []\n",
    "for i in l:\n",
    "    r = i.split()\n",
    "    k.append(r)\n",
    "print(k)"
   ]
  },
  {
   "cell_type": "markdown",
   "metadata": {},
   "source": [
    "### Task\n",
    "    - Similar words count\n",
    "    - {Stay:1 home:2 stay:1 safe:1 ---}\n"
   ]
  },
  {
   "cell_type": "code",
   "execution_count": null,
   "metadata": {},
   "outputs": [],
   "source": []
  },
  {
   "cell_type": "code",
   "execution_count": null,
   "metadata": {},
   "outputs": [],
   "source": []
  },
  {
   "cell_type": "code",
   "execution_count": null,
   "metadata": {},
   "outputs": [],
   "source": []
  },
  {
   "cell_type": "code",
   "execution_count": null,
   "metadata": {},
   "outputs": [],
   "source": []
  },
  {
   "cell_type": "markdown",
   "metadata": {},
   "source": [
    "## Data Science\n",
    "\n",
    "    - A filed of science that study the data, analyse the data and performs\n",
    "      various steps on the data to get valuable insights "
   ]
  },
  {
   "cell_type": "code",
   "execution_count": null,
   "metadata": {},
   "outputs": [],
   "source": [
    "- ram\n",
    "- color\n",
    "- 37k\n",
    "- keybord\n"
   ]
  },
  {
   "cell_type": "markdown",
   "metadata": {},
   "source": [
    "\n",
    "- Numpy\n",
    "    - Sceintific caluculation\n",
    "- Pandas\n",
    "    - Data analysis, data manupulation and data cleaning\n",
    "- Matplotlib\n",
    "    -  Visulization"
   ]
  },
  {
   "cell_type": "markdown",
   "metadata": {},
   "source": [
    "## Numpy\n",
    "\n",
    "- Numerical Python\n",
    "- Used to do Sceintific caluculation\n",
    "    - log(), tig(), linear algebra, exp, etc\n",
    "- we are dealing numpy array kind of data\n",
    "- execution speed fast than list\n",
    "- less memory \n",
    "\n",
    "    "
   ]
  },
  {
   "cell_type": "code",
   "execution_count": null,
   "metadata": {},
   "outputs": [],
   "source": [
    "## installation\n",
    "\n",
    "-- pip install numpy\n",
    "-- import numpy\n",
    "\n"
   ]
  },
  {
   "cell_type": "code",
   "execution_count": 25,
   "metadata": {},
   "outputs": [],
   "source": [
    "import numpy as np"
   ]
  },
  {
   "cell_type": "code",
   "execution_count": 27,
   "metadata": {},
   "outputs": [
    {
     "name": "stdout",
     "output_type": "stream",
     "text": [
      "[1 2 3 6 5]\n",
      "2\n",
      "1.18.5\n",
      "<class 'numpy.ndarray'>\n",
      "(2, 2)\n",
      "4\n"
     ]
    }
   ],
   "source": [
    "## 1 dimensional array\n",
    "\n",
    "r = np.array([1,2,3,6,5])\n",
    "print(r)\n",
    "print(t.ndim)\n",
    "print(np.__version__)\n",
    "print(type(r))\n",
    "print(t.shape)\n",
    "print(t.itemsize)"
   ]
  },
  {
   "cell_type": "code",
   "execution_count": 10,
   "metadata": {},
   "outputs": [
    {
     "data": {
      "text/plain": [
       "array([[1, 2],\n",
       "       [4, 5]])"
      ]
     },
     "execution_count": 10,
     "metadata": {},
     "output_type": "execute_result"
    }
   ],
   "source": [
    "t = np.array([[1,2],[4,5]])\n",
    "t"
   ]
  },
  {
   "cell_type": "code",
   "execution_count": 9,
   "metadata": {},
   "outputs": [],
   "source": [
    "import numpy as np"
   ]
  },
  {
   "cell_type": "code",
   "execution_count": 4,
   "metadata": {},
   "outputs": [
    {
     "name": "stdout",
     "output_type": "stream",
     "text": [
      "[1 4 5]\n"
     ]
    }
   ],
   "source": [
    "q = np.array([1,4,5])\n",
    "print(q)"
   ]
  },
  {
   "cell_type": "code",
   "execution_count": 5,
   "metadata": {},
   "outputs": [
    {
     "data": {
      "text/plain": [
       "numpy.ndarray"
      ]
     },
     "execution_count": 5,
     "metadata": {},
     "output_type": "execute_result"
    }
   ],
   "source": [
    "type(q)"
   ]
  },
  {
   "cell_type": "code",
   "execution_count": 28,
   "metadata": {},
   "outputs": [
    {
     "name": "stdout",
     "output_type": "stream",
     "text": [
      "[[1 2 3]\n",
      " [6 8 4]\n",
      " [3 7 5]]\n"
     ]
    }
   ],
   "source": [
    "y = np.array([[1,2,3],[6,8,4],[3,7,5]])\n",
    "print(y)"
   ]
  },
  {
   "cell_type": "code",
   "execution_count": 29,
   "metadata": {},
   "outputs": [
    {
     "data": {
      "text/plain": [
       "(3, 3)"
      ]
     },
     "execution_count": 29,
     "metadata": {},
     "output_type": "execute_result"
    }
   ],
   "source": [
    "y.shape"
   ]
  },
  {
   "cell_type": "code",
   "execution_count": 30,
   "metadata": {},
   "outputs": [
    {
     "data": {
      "text/plain": [
       "4"
      ]
     },
     "execution_count": 30,
     "metadata": {},
     "output_type": "execute_result"
    }
   ],
   "source": [
    "y.itemsize"
   ]
  },
  {
   "cell_type": "code",
   "execution_count": null,
   "metadata": {},
   "outputs": [],
   "source": []
  }
 ],
 "metadata": {
  "kernelspec": {
   "display_name": "Python 3",
   "language": "python",
   "name": "python3"
  },
  "language_info": {
   "codemirror_mode": {
    "name": "ipython",
    "version": 3
   },
   "file_extension": ".py",
   "mimetype": "text/x-python",
   "name": "python",
   "nbconvert_exporter": "python",
   "pygments_lexer": "ipython3",
   "version": "3.8.3"
  }
 },
 "nbformat": 4,
 "nbformat_minor": 4
}
