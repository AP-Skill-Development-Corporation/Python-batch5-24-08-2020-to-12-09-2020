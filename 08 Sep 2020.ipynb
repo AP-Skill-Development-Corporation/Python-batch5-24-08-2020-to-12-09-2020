{
 "cells": [
  {
   "cell_type": "markdown",
   "metadata": {},
   "source": [
    "### Regular expression(RegEx)\n",
    "- RegEx is a sequence of characters that match a pattern\n",
    "- import re\n",
    "\n",
    "- character     Explanation\n",
    "- []             represents a character\n",
    "- ^              matches the begining\n",
    "- *              zero or more occurence\n",
    "- +              one or more occurence\n",
    "- .              matches a character\n",
    "- |              OR\n",
    "- {}             range set\n",
    "- [a-z]          matches any lower case alphabet\n",
    "- [0-9]          matches any digit \n",
    "- $              matches the ending"
   ]
  },
  {
   "cell_type": "code",
   "execution_count": 1,
   "metadata": {},
   "outputs": [],
   "source": [
    "import re"
   ]
  },
  {
   "cell_type": "code",
   "execution_count": 6,
   "metadata": {},
   "outputs": [],
   "source": [
    "re.match(\"y\",'python')"
   ]
  },
  {
   "cell_type": "code",
   "execution_count": 8,
   "metadata": {},
   "outputs": [
    {
     "data": {
      "text/plain": [
       "<re.Match object; span=(0, 3), match='pyt'>"
      ]
     },
     "execution_count": 8,
     "metadata": {},
     "output_type": "execute_result"
    }
   ],
   "source": [
    "re.match(\"pyt\",'python')"
   ]
  },
  {
   "cell_type": "code",
   "execution_count": 10,
   "metadata": {},
   "outputs": [
    {
     "data": {
      "text/plain": [
       "<re.Match object; span=(1, 4), match='yth'>"
      ]
     },
     "execution_count": 10,
     "metadata": {},
     "output_type": "execute_result"
    }
   ],
   "source": [
    "re.search(\"yth\",\"python\")"
   ]
  },
  {
   "cell_type": "code",
   "execution_count": 11,
   "metadata": {},
   "outputs": [
    {
     "data": {
      "text/plain": [
       "<re.Match object; span=(1, 2), match='o'>"
      ]
     },
     "execution_count": 11,
     "metadata": {},
     "output_type": "execute_result"
    }
   ],
   "source": [
    "re.search(\"o\",\"notebook\")"
   ]
  },
  {
   "cell_type": "code",
   "execution_count": 12,
   "metadata": {},
   "outputs": [
    {
     "data": {
      "text/plain": [
       "['o', 'o', 'o']"
      ]
     },
     "execution_count": 12,
     "metadata": {},
     "output_type": "execute_result"
    }
   ],
   "source": [
    "re.findall(\"o\",\"notebook\")"
   ]
  },
  {
   "cell_type": "code",
   "execution_count": 27,
   "metadata": {},
   "outputs": [
    {
     "name": "stdout",
     "output_type": "stream",
     "text": [
      "enter stringG345a\n"
     ]
    },
    {
     "data": {
      "text/plain": [
       "True"
      ]
     },
     "execution_count": 27,
     "metadata": {},
     "output_type": "execute_result"
    }
   ],
   "source": [
    "# matches a string which ends with 'a'\n",
    "# - ^[A-Z][a-z]{5}[a]$\n",
    "def Name(s):\n",
    "    p = '^[A-Z]...[a]$'\n",
    "    if re.match(p,s):\n",
    "        return True\n",
    "    return False\n",
    "\n",
    "Name(input(\"enter string\"))"
   ]
  },
  {
   "cell_type": "markdown",
   "metadata": {},
   "source": [
    "### phone number validation\n",
    "- 10 digits\n",
    "    - 9876543210\n",
    "    - starts with 6-9\n",
    "    - ^[6-9][0-9]{9}$\n",
    "- 11 digits\n",
    "    - 09876543210\n",
    "    - ^[0][6-9][0-9]{9}$\n",
    "- 12 digits\n",
    "    - + 91 9876543210\n",
    "    - ^[+][9][1][6-9][0-9]{9}$"
   ]
  },
  {
   "cell_type": "code",
   "execution_count": 22,
   "metadata": {},
   "outputs": [
    {
     "name": "stdout",
     "output_type": "stream",
     "text": [
      "enter string78906543\n"
     ]
    },
    {
     "data": {
      "text/plain": [
       "False"
      ]
     },
     "execution_count": 22,
     "metadata": {},
     "output_type": "execute_result"
    }
   ],
   "source": [
    "def phonevalidation(s):\n",
    "    p = '^[6-9][0-9]{9}$|^[0][6-9][0-9]{9}$|^[+][9][1][6-9][0-9]{9}$'\n",
    "    if re.match(p,s):\n",
    "        return True\n",
    "    return False\n",
    "\n",
    "phonevalidation(input(\"enter string\"))"
   ]
  },
  {
   "cell_type": "markdown",
   "metadata": {},
   "source": [
    "##### email validation - abcde.h@gmail.com\n",
    "- username - abcde\n",
    "    - lower case characters and digits are allowed\n",
    "    - _ and . are allowed\n",
    "    - no special characters are allowed\n",
    "    - min 5 characters and max 15 characters\n",
    "    - ^[a-z0-9][0-9a-z._]{3,13}[0-9a-z]\n",
    "- domain - gmail\n",
    "    - lower case characters and digits are allowed\n",
    "    - min 5 characters and max 18 characters\n",
    "    - [a-z0-9]{5,18}\n",
    "- extension - com\n",
    "    - accepts alphabet\n",
    "    - min 2 characters and max 6 characters\n",
    "    - [a-z]{2,6}"
   ]
  },
  {
   "cell_type": "code",
   "execution_count": 34,
   "metadata": {},
   "outputs": [
    {
     "name": "stdout",
     "output_type": "stream",
     "text": [
      "enter string123_23@gmail.com\n"
     ]
    },
    {
     "data": {
      "text/plain": [
       "True"
      ]
     },
     "execution_count": 34,
     "metadata": {},
     "output_type": "execute_result"
    }
   ],
   "source": [
    "def gmailvalidation(s):\n",
    "    p = '^[a-z0-9][0-9a-z._]{3,13}[0-9a-z][@][a-z0-9]{5,18}[.][a-z]{2,6}'\n",
    "    if re.match(p,s):\n",
    "        return True\n",
    "    return False\n",
    "\n",
    "gmailvalidation(input(\"enter string\"))"
   ]
  },
  {
   "cell_type": "code",
   "execution_count": null,
   "metadata": {},
   "outputs": [],
   "source": []
  }
 ],
 "metadata": {
  "kernelspec": {
   "display_name": "Python 3",
   "language": "python",
   "name": "python3"
  },
  "language_info": {
   "codemirror_mode": {
    "name": "ipython",
    "version": 3
   },
   "file_extension": ".py",
   "mimetype": "text/x-python",
   "name": "python",
   "nbconvert_exporter": "python",
   "pygments_lexer": "ipython3",
   "version": "3.7.1"
  }
 },
 "nbformat": 4,
 "nbformat_minor": 2
}
