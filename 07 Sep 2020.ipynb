{
 "cells": [
  {
   "cell_type": "markdown",
   "metadata": {},
   "source": [
    "### class\n",
    "- collection of variables and methods\n",
    "### object \n",
    "- instance of a class"
   ]
  },
  {
   "cell_type": "code",
   "execution_count": 1,
   "metadata": {},
   "outputs": [
    {
     "data": {
      "text/plain": [
       "<__main__.Example at 0x201d76361d0>"
      ]
     },
     "execution_count": 1,
     "metadata": {},
     "output_type": "execute_result"
    }
   ],
   "source": [
    "class Example:\n",
    "    pass\n",
    "    \n",
    "    \n",
    "ob = Example()\n",
    "ob"
   ]
  },
  {
   "cell_type": "code",
   "execution_count": 2,
   "metadata": {},
   "outputs": [
    {
     "data": {
      "text/plain": [
       "<__main__.Sample at 0x201d76365c0>"
      ]
     },
     "execution_count": 2,
     "metadata": {},
     "output_type": "execute_result"
    }
   ],
   "source": [
    "class Sample:\n",
    "    '''this is a sample text'''\n",
    "ob1 = Sample()\n",
    "ob1"
   ]
  },
  {
   "cell_type": "code",
   "execution_count": 3,
   "metadata": {},
   "outputs": [
    {
     "data": {
      "text/plain": [
       "'this is a sample text'"
      ]
     },
     "execution_count": 3,
     "metadata": {},
     "output_type": "execute_result"
    }
   ],
   "source": [
    "ob1.__doc__"
   ]
  },
  {
   "cell_type": "code",
   "execution_count": 5,
   "metadata": {},
   "outputs": [
    {
     "name": "stdout",
     "output_type": "stream",
     "text": [
      "hello\n"
     ]
    }
   ],
   "source": [
    "class ExampleOne:\n",
    "    def __init__(self,a):\n",
    "        self.a = a\n",
    "        print(self.a)\n",
    "        \n",
    "obj = ExampleOne('hello')       "
   ]
  },
  {
   "cell_type": "code",
   "execution_count": 7,
   "metadata": {},
   "outputs": [
    {
     "name": "stdout",
     "output_type": "stream",
     "text": [
      "123 abcdef\n"
     ]
    }
   ],
   "source": [
    "class Student:\n",
    "    def __init__(self,sid,sname):\n",
    "        self.sid = sid\n",
    "        self.sname = sname\n",
    "        \n",
    "    def display(self):\n",
    "        print(self.sid,self.sname)\n",
    "        \n",
    "ob = Student(123,\"abcdef\")\n",
    "ob.display()"
   ]
  },
  {
   "cell_type": "code",
   "execution_count": 14,
   "metadata": {},
   "outputs": [
    {
     "name": "stdout",
     "output_type": "stream",
     "text": [
      "company name is APSSDC\n"
     ]
    }
   ],
   "source": [
    "class Employee:\n",
    "    coname = \"APSSDC\"\n",
    "    def __init__(self,empid,empname):\n",
    "        self.empid = empid\n",
    "        self.empname = empname\n",
    "        \n",
    "    def Company(t):\n",
    "        print(\"company name is \"+t.coname)\n",
    "        \n",
    "    def add(a,b):\n",
    "        print(a+b)\n",
    "        \n",
    "obj = Employee(123,\"abced\")\n",
    "'''a = int(input(\"enter\"))\n",
    "b = int(input(\"enter\"))\n",
    "Employee.add(a,b)'''\n",
    "obj.Company()"
   ]
  },
  {
   "cell_type": "markdown",
   "metadata": {},
   "source": [
    "### Inheritance\n",
    "- Acquiring properties from parent class to child class\n",
    "#### Types\n",
    "- Single\n",
    "- multilevel\n",
    "- multiple\n",
    "- hierachical"
   ]
  },
  {
   "cell_type": "code",
   "execution_count": 17,
   "metadata": {},
   "outputs": [
    {
     "name": "stdout",
     "output_type": "stream",
     "text": [
      "in third function\n",
      "in first function\n"
     ]
    }
   ],
   "source": [
    "# Single inheritance : A --> B\n",
    "\n",
    "class One:\n",
    "    def first(self):\n",
    "        print(\"in first function\")\n",
    "        \n",
    "    def second(self):\n",
    "        print(\"in second function\")\n",
    "        \n",
    "class Two(One):\n",
    "    def third(self):\n",
    "        print(\"in third function\")\n",
    "        \n",
    "    def fourth(self):\n",
    "        print(\"in fourth function\")\n",
    "\n",
    "s = Two()\n",
    "s. third()\n",
    "\n",
    "s.first()"
   ]
  },
  {
   "cell_type": "code",
   "execution_count": 21,
   "metadata": {},
   "outputs": [
    {
     "name": "stdout",
     "output_type": "stream",
     "text": [
      "grandfather name is base\n",
      "father name is intermediate\n",
      "base\n",
      "intermediate\n",
      "abc\n",
      "cde\n"
     ]
    }
   ],
   "source": [
    "# Multilevel inheritance\n",
    "# base --> intermediate --> child\n",
    "class Grandfather:\n",
    "    gfname = \"\"\n",
    "    def gfather(self):\n",
    "        print(self.gfname)\n",
    "        \n",
    "class father(Grandfather):\n",
    "    fname = \"\"\n",
    "    def ffather(self):\n",
    "        print(self.fname)\n",
    "        \n",
    "class child(father):\n",
    "    def display(self):\n",
    "        print(\"grandfather name is \"+self.gfname)\n",
    "        print(\"father name is \"+self.fname)\n",
    "        \n",
    "obj = child()\n",
    "obj.gfname = \"base\"\n",
    "obj.fname = \"intermediate\"\n",
    "        \n",
    "obj.display()\n",
    "obj.gfather()\n",
    "obj.ffather()\n",
    "\n",
    "obj1 = father()\n",
    "\n",
    "obj1.gfname = \"abc\"\n",
    "obj1.fname = \"cde\"\n",
    "\n",
    "obj1.gfather()\n",
    "obj1.ffather()"
   ]
  },
  {
   "cell_type": "code",
   "execution_count": 23,
   "metadata": {},
   "outputs": [
    {
     "name": "stdout",
     "output_type": "stream",
     "text": [
      "sita rama\n"
     ]
    }
   ],
   "source": [
    "# multiple inheritance\n",
    "# A --> B --> C (A,B)\n",
    "class mother:\n",
    "    mname = \"\"\n",
    "    def parent(self):\n",
    "        print(self.mname)\n",
    "        \n",
    "class father:\n",
    "    fname = \"\"\n",
    "    def parentOne(self):\n",
    "        print(self.fname)\n",
    "        \n",
    "class child(mother,father):\n",
    "    def display(self):\n",
    "        print(self.mname+\" \"+self.fname)\n",
    "    \n",
    "ob = child()\n",
    "ob.mname = \"sita\"\n",
    "ob.fname = \"rama\"\n",
    "\n",
    "ob.display()       "
   ]
  },
  {
   "cell_type": "code",
   "execution_count": 24,
   "metadata": {},
   "outputs": [
    {
     "name": "stdout",
     "output_type": "stream",
     "text": [
      " in parent class A function\n",
      " in child1 class B function\n",
      " in parent class A function\n",
      " in child2 class C function\n"
     ]
    }
   ],
   "source": [
    "# hierachical inheritance - one or more  classes are derived from a single parent class\n",
    "# A --> B\n",
    "# A -->C\n",
    "\n",
    "class parent:\n",
    "    def A(self):\n",
    "        print(\" in parent class A function\")\n",
    "        \n",
    "class child1(parent):\n",
    "    def B(self):\n",
    "        print(\" in child1 class B function\")\n",
    "\n",
    "class child2(parent):\n",
    "    def C(self):\n",
    "        print(\" in child2 class C function\")\n",
    "\n",
    "        \n",
    "ob1 = child1()\n",
    "ob1.A()\n",
    "ob1.B()\n",
    "\n",
    "ob2 = child2()\n",
    "ob2.A()\n",
    "ob2.C()"
   ]
  },
  {
   "cell_type": "code",
   "execution_count": null,
   "metadata": {},
   "outputs": [],
   "source": []
  }
 ],
 "metadata": {
  "kernelspec": {
   "display_name": "Python 3",
   "language": "python",
   "name": "python3"
  },
  "language_info": {
   "codemirror_mode": {
    "name": "ipython",
    "version": 3
   },
   "file_extension": ".py",
   "mimetype": "text/x-python",
   "name": "python",
   "nbconvert_exporter": "python",
   "pygments_lexer": "ipython3",
   "version": "3.7.1"
  }
 },
 "nbformat": 4,
 "nbformat_minor": 2
}
