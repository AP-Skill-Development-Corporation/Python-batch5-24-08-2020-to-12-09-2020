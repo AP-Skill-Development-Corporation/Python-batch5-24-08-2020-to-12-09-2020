{
 "cells": [
  {
   "cell_type": "markdown",
   "metadata": {},
   "source": [
    "## Conditional statements and decision statements\n",
    "\n",
    "- if statement\n",
    "- if..else statements\n",
    "- if..elif..else statements\n",
    "- nested..if..else statements"
   ]
  },
  {
   "cell_type": "markdown",
   "metadata": {},
   "source": [
    "- The main purpose of if condition is to check single condition\n",
    "- if Syntax\n",
    "\n",
    "if condition:\n",
    "    statements"
   ]
  },
  {
   "cell_type": "code",
   "execution_count": 9,
   "metadata": {},
   "outputs": [
    {
     "name": "stdout",
     "output_type": "stream",
     "text": [
      "Even\n"
     ]
    }
   ],
   "source": [
    "## check the given number is even\n",
    "\n",
    "n = 2\n",
    "if(n%2 == 0):\n",
    "    print('Even')\n",
    "    "
   ]
  },
  {
   "cell_type": "code",
   "execution_count": 17,
   "metadata": {},
   "outputs": [
    {
     "name": "stdout",
     "output_type": "stream",
     "text": [
      "enter number: 6\n",
      "Even\n",
      "Nandini\n"
     ]
    }
   ],
   "source": [
    "n = int(input('enter number: '))\n",
    "if n%2 == 0:\n",
    "    print('Even')\n",
    "print('Nandini')"
   ]
  },
  {
   "cell_type": "markdown",
   "metadata": {},
   "source": [
    "- We are using if..else for checking two conditions\n",
    "- if..else Syntax\n",
    "\n",
    "if condition:\n",
    "    statements/logics\n",
    "else:\n",
    "    statements/logics"
   ]
  },
  {
   "cell_type": "code",
   "execution_count": 1,
   "metadata": {},
   "outputs": [
    {
     "name": "stdout",
     "output_type": "stream",
     "text": [
      "enter a number: 5\n",
      "Odd\n"
     ]
    }
   ],
   "source": [
    "## check the given number is even or odd\n",
    "\n",
    "x = int(input('enter a number: '))\n",
    "if x%2 == 0:\n",
    "    print('Even')\n",
    "else:\n",
    "    print('Odd')\n",
    "    "
   ]
  },
  {
   "cell_type": "code",
   "execution_count": 8,
   "metadata": {},
   "outputs": [
    {
     "name": "stdout",
     "output_type": "stream",
     "text": [
      "enter first number: 34\n",
      "enter second number: 34\n",
      "34 is big number\n"
     ]
    }
   ],
   "source": [
    "## check the big number for two numbers\n",
    "## 56\n",
    "## 34\n",
    "\n",
    "a = int(input('enter first number: '))\n",
    "b = int(input('enter second number: '))\n",
    "if a>b:\n",
    "    print(a,'is big number')\n",
    "else:\n",
    "    print(b,'is big number')\n",
    "    "
   ]
  },
  {
   "cell_type": "code",
   "execution_count": 2,
   "metadata": {},
   "outputs": [
    {
     "name": "stdout",
     "output_type": "stream",
     "text": [
      "enter number: 76\n",
      "Not existed\n"
     ]
    }
   ],
   "source": [
    "## Number existed or not\n",
    "## 5\n",
    "## 1 -- 10\n",
    "\n",
    "num = int(input('enter number: '))\n",
    "if num >= 1 and num <= 10:  ## 5>=1 and 5<=10\n",
    "    print('Existed')\n",
    "else:\n",
    "    print('Not existed')   \n"
   ]
  },
  {
   "cell_type": "markdown",
   "metadata": {},
   "source": [
    "- the main purpose of if..elif..else is to check more than two conditons\n",
    "- if..elif..else Syntax\n",
    "\n",
    "if condition:\n",
    "    statements\n",
    "elif condition:\n",
    "    statements\n",
    "elif condition:\n",
    "    statements\n",
    "    \n",
    "    --\n",
    "    --\n",
    "    --\n",
    "else:\n",
    "    statements"
   ]
  },
  {
   "cell_type": "code",
   "execution_count": 4,
   "metadata": {},
   "outputs": [
    {
     "name": "stdout",
     "output_type": "stream",
     "text": [
      "67\n",
      "Invalid input\n"
     ]
    }
   ],
   "source": [
    "## sunday -- 1\n",
    "## monday -- 2\n",
    "## tuesday  -- 3\n",
    "## wednesday -- 4\n",
    "## thursday -- 5\n",
    "## friday -- 6\n",
    "## saturday -- 7\n",
    "\n",
    "n = int(input())  \n",
    "if n == 1:\n",
    "    print('Sun')\n",
    "elif n == 2:\n",
    "    print('Mon')\n",
    "elif n == 3:\n",
    "    print('Tues')\n",
    "elif n == 4:\n",
    "    print('Wed')\n",
    "elif n == 5:\n",
    "    print('Thur')\n",
    "elif n == 6:\n",
    "    print('Fri')\n",
    "elif n == 7:\n",
    "    print('Sat')\n",
    "else:\n",
    "    print('Invalid input')"
   ]
  },
  {
   "cell_type": "code",
   "execution_count": 12,
   "metadata": {},
   "outputs": [
    {
     "name": "stdout",
     "output_type": "stream",
     "text": [
      "enter first number: 7\n",
      "enter second number: 4\n",
      "enter operator+\n",
      "11\n"
     ]
    }
   ],
   "source": [
    "## mathematical operations\n",
    "## + addition  \n",
    "## - subtraction \n",
    "## * Multiplication\n",
    "## / division\n",
    "\n",
    "n1 = int(input('enter first number: '))\n",
    "n2 = int(input('enter second number: '))\n",
    "s = input('enter operator')\n",
    "if s == '+':\n",
    "    print(n1+n2)\n",
    "elif s == '-':\n",
    "    print(n1-n2)\n",
    "elif s == '*':\n",
    "    print(n1*n2)\n",
    "elif s == '/':\n",
    "    print(n1/n2)\n",
    "else:\n",
    "    print('Wrong choice')\n",
    "\n",
    "    \n",
    "\n"
   ]
  },
  {
   "cell_type": "markdown",
   "metadata": {},
   "source": [
    "- if block inside if blocks\n",
    "- nested if..else Syntax\n",
    "\n",
    "if condition:\n",
    "    if condition:\n",
    "        statements\n",
    "    else:\n",
    "        statements\n",
    "else:\n",
    "    statements\n"
   ]
  },
  {
   "cell_type": "code",
   "execution_count": 17,
   "metadata": {},
   "outputs": [
    {
     "name": "stdout",
     "output_type": "stream",
     "text": [
      "enter user id: 5\n",
      "enter password: 12345\n",
      "Successfully entered\n"
     ]
    }
   ],
   "source": [
    "##  user id's = 1 -- 100  \n",
    "    ## pw = 12345\n",
    "        ## Successfully entered\n",
    "    ## Wrong password\n",
    "## Invalid user id\n",
    "\n",
    "user_id = int(input('enter user id: '))\n",
    "if user_id >= 1 and user_id <= 100:\n",
    "    pw = int(input('enter password: '))\n",
    "    if pw == 12345:\n",
    "        print('Successfully entered')\n",
    "    else:\n",
    "        print('Wrong password')\n",
    "else:\n",
    "    print('Invalid user name')\n"
   ]
  },
  {
   "cell_type": "markdown",
   "metadata": {},
   "source": [
    "## Task\n",
    "- 1.Check the given number is Positive or Negative\n",
    "- 2.Check the given number is divisible by 5 and as well as 11\n",
    "- 3.Check the given character is vowel or consonant\n",
    "- 4.\n",
    "   0-12 ---> Child\n",
    "   13-18  --> Teenager\n",
    "   19-59  --> Adult\n",
    "   60 years and above  --> Senior adult\n",
    "- 5.Check the given character is alphabet or special symbol or digit\n",
    "- 6. even or odd\n",
    "     - even > 10\n",
    "        - n ** 2\n",
    "     odd\n",
    "        "
   ]
  },
  {
   "cell_type": "code",
   "execution_count": 3,
   "metadata": {},
   "outputs": [
    {
     "name": "stdout",
     "output_type": "stream",
     "text": [
      "enter character: '\n",
      "Special symbol\n"
     ]
    }
   ],
   "source": [
    "s = input('enter character: ')\n",
    "if ((s>='a' and s<='z') or (s>='A' and s<='Z')):\n",
    "    print('Alphabet')\n",
    "elif s>='0' and s<='9':\n",
    "    print('Digit')\n",
    "else:\n",
    "    print('Special symbol')\n",
    "    \n",
    "    \n",
    "    "
   ]
  },
  {
   "cell_type": "code",
   "execution_count": 8,
   "metadata": {},
   "outputs": [
    {
     "name": "stdout",
     "output_type": "stream",
     "text": [
      "4\n",
      "It is not greter than 10\n"
     ]
    }
   ],
   "source": [
    "z = int(input()) ## 43\n",
    "if z%2 == 0:\n",
    "    if z>10:\n",
    "        print(z**2)\n",
    "else:\n",
    "    print('Odd')\n",
    "    "
   ]
  },
  {
   "cell_type": "code",
   "execution_count": 20,
   "metadata": {},
   "outputs": [
    {
     "name": "stdout",
     "output_type": "stream",
     "text": [
      "enter alphabet: T\n",
      "Consonant\n"
     ]
    }
   ],
   "source": [
    "r = input('enter alphabet: ')\n",
    "if ((r>='a' and  r<='z') or (r>='A' and r<='Z')):\n",
    "    if r == 'A' or r == 'a':\n",
    "        print('Vowel')\n",
    "    elif r == 'E' or r == 'e':\n",
    "        print('Vowel')\n",
    "    elif r == 'I' or r == 'i':\n",
    "        print('Vowel')\n",
    "    elif r == 'o' or r == 'O':\n",
    "        print('Vowel')\n",
    "    elif r == 'U' or r == 'u':\n",
    "        print('Vowel')\n",
    "    else:\n",
    "        print('Consonant')\n",
    "else:\n",
    "    print('Unsupported string you entered')"
   ]
  },
  {
   "cell_type": "code",
   "execution_count": 23,
   "metadata": {},
   "outputs": [
    {
     "name": "stdout",
     "output_type": "stream",
     "text": [
      "enter number: 110\n",
      "Divisible\n"
     ]
    }
   ],
   "source": [
    "n = int(input('enter number: '))\n",
    "if n%5 == 0 and n%11 == 0:\n",
    "    print('Divisible')\n",
    "else:\n",
    "    print('Not divisible')"
   ]
  },
  {
   "cell_type": "code",
   "execution_count": null,
   "metadata": {},
   "outputs": [],
   "source": []
  },
  {
   "cell_type": "code",
   "execution_count": null,
   "metadata": {},
   "outputs": [],
   "source": [
    "7\n",
    "odd\n"
   ]
  },
  {
   "cell_type": "code",
   "execution_count": null,
   "metadata": {},
   "outputs": [],
   "source": [
    "18\n",
    "n >10\n",
    " print(18**2)\n",
    "    "
   ]
  },
  {
   "cell_type": "code",
   "execution_count": 21,
   "metadata": {},
   "outputs": [
    {
     "name": "stderr",
     "output_type": "stream",
     "text": [
      "<>:2: SyntaxWarning: \"is\" with a literal. Did you mean \"==\"?\n",
      "<>:2: SyntaxWarning: \"is\" with a literal. Did you mean \"==\"?\n",
      "<ipython-input-21-a9a3d88d7b1f>:2: SyntaxWarning: \"is\" with a literal. Did you mean \"==\"?\n",
      "  x is 1\n"
     ]
    },
    {
     "data": {
      "text/plain": [
       "True"
      ]
     },
     "execution_count": 21,
     "metadata": {},
     "output_type": "execute_result"
    }
   ],
   "source": [
    "x = 1\n",
    "x is 1"
   ]
  },
  {
   "cell_type": "code",
   "execution_count": 19,
   "metadata": {},
   "outputs": [
    {
     "name": "stderr",
     "output_type": "stream",
     "text": [
      "<>:1: SyntaxWarning: \"is not\" with a literal. Did you mean \"!=\"?\n",
      "<>:1: SyntaxWarning: \"is not\" with a literal. Did you mean \"!=\"?\n",
      "<ipython-input-19-4b0da06dba08>:1: SyntaxWarning: \"is not\" with a literal. Did you mean \"!=\"?\n",
      "  x is not 1\n"
     ]
    },
    {
     "data": {
      "text/plain": [
       "False"
      ]
     },
     "execution_count": 19,
     "metadata": {},
     "output_type": "execute_result"
    }
   ],
   "source": [
    "x is not 1"
   ]
  },
  {
   "cell_type": "code",
   "execution_count": 22,
   "metadata": {},
   "outputs": [
    {
     "name": "stdout",
     "output_type": "stream",
     "text": [
      "aksdjfh\n"
     ]
    }
   ],
   "source": [
    "print('aksdjfh')"
   ]
  },
  {
   "cell_type": "code",
   "execution_count": 26,
   "metadata": {},
   "outputs": [],
   "source": [
    "if (0):\n",
    "    print('hii')"
   ]
  },
  {
   "cell_type": "code",
   "execution_count": 27,
   "metadata": {},
   "outputs": [
    {
     "name": "stdout",
     "output_type": "stream",
     "text": [
      "hi\n"
     ]
    }
   ],
   "source": [
    "if (1,89,965):\n",
    "    print('hi')"
   ]
  },
  {
   "cell_type": "code",
   "execution_count": 28,
   "metadata": {},
   "outputs": [
    {
     "ename": "SyntaxError",
     "evalue": "invalid syntax (<ipython-input-28-79e5c6853b23>, line 1)",
     "output_type": "error",
     "traceback": [
      "\u001b[1;36m  File \u001b[1;32m\"<ipython-input-28-79e5c6853b23>\"\u001b[1;36m, line \u001b[1;32m1\u001b[0m\n\u001b[1;33m    if = 1\u001b[0m\n\u001b[1;37m       ^\u001b[0m\n\u001b[1;31mSyntaxError\u001b[0m\u001b[1;31m:\u001b[0m invalid syntax\n"
     ]
    }
   ],
   "source": [
    "if = 1\n",
    "else = 6\n",
    "print(if+else)"
   ]
  },
  {
   "cell_type": "code",
   "execution_count": 32,
   "metadata": {},
   "outputs": [
    {
     "data": {
      "text/plain": [
       "4"
      ]
     },
     "execution_count": 32,
     "metadata": {},
     "output_type": "execute_result"
    }
   ],
   "source": [
    "a = 3\n",
    "abs(~a)"
   ]
  },
  {
   "cell_type": "code",
   "execution_count": 37,
   "metadata": {},
   "outputs": [
    {
     "name": "stdout",
     "output_type": "stream",
     "text": [
      "8\n",
      "4\n",
      "12\n",
      "0\n"
     ]
    }
   ],
   "source": [
    "a = 8\n",
    "b = 4\n",
    "print(a or b)\n",
    "print(a and b)\n",
    "print(a|b)\n",
    "print(a&b)"
   ]
  },
  {
   "cell_type": "code",
   "execution_count": null,
   "metadata": {},
   "outputs": [],
   "source": [
    "8-->1 0 0 0\n",
    "4-->0 1 0 0\n",
    "\n",
    "1100-->12\n",
    "0000-->0"
   ]
  },
  {
   "cell_type": "code",
   "execution_count": null,
   "metadata": {},
   "outputs": [],
   "source": []
  }
 ],
 "metadata": {
  "kernelspec": {
   "display_name": "Python 3",
   "language": "python",
   "name": "python3"
  },
  "language_info": {
   "codemirror_mode": {
    "name": "ipython",
    "version": 3
   },
   "file_extension": ".py",
   "mimetype": "text/x-python",
   "name": "python",
   "nbconvert_exporter": "python",
   "pygments_lexer": "ipython3",
   "version": "3.8.3"
  }
 },
 "nbformat": 4,
 "nbformat_minor": 4
}
