{
 "cells": [
  {
   "cell_type": "markdown",
   "metadata": {},
   "source": [
    "## Loops or Control statements or Iterations\n",
    "\n",
    "- Loop : It is sequence of instructions those are repeating as long as the condition failed\n",
    "\n",
    "- for loop\n",
    "- while loop\n",
    "- nested for loop\n",
    "- nested while\n"
   ]
  },
  {
   "cell_type": "markdown",
   "metadata": {},
   "source": [
    "- for loop\n",
    "    - Which is used to iterate or repeated particular task or statements into multiple times\n",
    "    - range known\n",
    "    \n",
    "- for Syntax:\n",
    "    for variable in range(start,end,step):\n",
    "         statements/logic"
   ]
  },
  {
   "cell_type": "code",
   "execution_count": null,
   "metadata": {},
   "outputs": [],
   "source": [
    "range(start,end,step)\n"
   ]
  },
  {
   "cell_type": "code",
   "execution_count": 10,
   "metadata": {},
   "outputs": [
    {
     "name": "stdout",
     "output_type": "stream",
     "text": [
      "0\n",
      "1\n",
      "2\n",
      "3\n",
      "4\n",
      "5\n",
      "6\n",
      "7\n",
      "8\n",
      "9\n"
     ]
    }
   ],
   "source": [
    "for i in range(10):\n",
    "    print(i)"
   ]
  },
  {
   "cell_type": "code",
   "execution_count": 20,
   "metadata": {},
   "outputs": [
    {
     "name": "stdout",
     "output_type": "stream",
     "text": [
      "1\"2\"3\"4\"5\"6\"7\"8\"9\""
     ]
    }
   ],
   "source": [
    "for i in range(1,10):\n",
    "    print(i,end = '\"')"
   ]
  },
  {
   "cell_type": "code",
   "execution_count": 21,
   "metadata": {},
   "outputs": [
    {
     "name": "stdout",
     "output_type": "stream",
     "text": [
      "1 6 11 16 21 26 31 36 41 46 "
     ]
    }
   ],
   "source": [
    "for j in range(1,50,5):\n",
    "    print(j,end=' ')"
   ]
  },
  {
   "cell_type": "code",
   "execution_count": 24,
   "metadata": {},
   "outputs": [
    {
     "name": "stdout",
     "output_type": "stream",
     "text": [
      "Nandini Nandini Nandini Nandini Nandini Nandini Nandini Nandini Nandini Nandini Nandini Nandini Nandini Nandini Nandini Nandini Nandini Nandini Nandini Nandini Nandini Nandini Nandini Nandini Nandini Nandini Nandini Nandini Nandini Nandini Nandini Nandini Nandini Nandini Nandini Nandini Nandini Nandini Nandini Nandini Nandini Nandini Nandini Nandini Nandini Nandini Nandini Nandini Nandini "
     ]
    }
   ],
   "source": [
    "for i in range(1,50):\n",
    "    print('Nandini',end=' ')"
   ]
  },
  {
   "cell_type": "code",
   "execution_count": 27,
   "metadata": {},
   "outputs": [
    {
     "name": "stdout",
     "output_type": "stream",
     "text": [
      "enter start point: 50\n",
      "enter end point: 70\n",
      "50 53 56 59 62 65 68 "
     ]
    }
   ],
   "source": [
    "## 50 to 70\n",
    "\n",
    "s = int(input('enter start point: '))\n",
    "e = int(input('enter end point: '))\n",
    "for k in range(s,e+1,3):\n",
    "    print(k,end=' ')\n",
    "    "
   ]
  },
  {
   "cell_type": "code",
   "execution_count": 30,
   "metadata": {},
   "outputs": [
    {
     "name": "stdout",
     "output_type": "stream",
     "text": [
      "1\n",
      "25\n",
      "2 4 6 8 10 12 14 16 18 20 22 24 \n",
      "\n",
      "1 3 5 7 9 11 13 15 17 19 21 23 25 "
     ]
    }
   ],
   "source": [
    "## print even numbers and odd numbers in the given range\n",
    "\n",
    "s = int(input()) ## 1\n",
    "e = int(input()) ## 25\n",
    "for i in range(s,e+1): ## 1,25+1\n",
    "    if i%2 ==0:\n",
    "        print(i,end=' ')\n",
    "print('\\n')\n",
    "for k in range(s,e+1):\n",
    "    if k%2!=0:\n",
    "        print(k,end=' ')\n",
    "        \n",
    "    \n",
    "    \n",
    "    "
   ]
  },
  {
   "cell_type": "code",
   "execution_count": 41,
   "metadata": {},
   "outputs": [
    {
     "name": "stdout",
     "output_type": "stream",
     "text": [
      "10 9 8 7 6 5 4 3 2 1 \n",
      "55\n"
     ]
    }
   ],
   "source": [
    "### print 1 to 10 in reverse order and sum of those\n",
    "\n",
    "c =  0\n",
    "for j in range(10,0,-1):\n",
    "    print(j,end=' ')\n",
    "    c = c+j ## c = 0+10+9+8+7+....1 \n",
    "print()\n",
    "print(c)\n"
   ]
  },
  {
   "cell_type": "code",
   "execution_count": 43,
   "metadata": {},
   "outputs": [
    {
     "name": "stdout",
     "output_type": "stream",
     "text": [
      "15\n",
      "1 3 5 15 "
     ]
    }
   ],
   "source": [
    "## print factors for given number\n",
    "## 5\n",
    "## 1 2 3 4 5\n",
    "## 1 5\n",
    "n = int(input())\n",
    "for i in range(1,n+1):\n",
    "    if n%i == 0:## 5%1\n",
    "        print(i,end=' ')\n",
    "    "
   ]
  },
  {
   "cell_type": "code",
   "execution_count": 8,
   "metadata": {},
   "outputs": [
    {
     "name": "stdout",
     "output_type": "stream",
     "text": [
      "67\n",
      "67 is prime number\n"
     ]
    }
   ],
   "source": [
    "### Check the prime number\n",
    "\n",
    "n = int(input())  ## 3\n",
    "f_c = 0\n",
    "for i in range(1,n+1): ## 1,3\n",
    "    if n%i ==0: ## 3%1 3%2 3%3\n",
    "        f_c = f_c+1  ## f_c = 1  f_c = 2\n",
    "if f_c == 2:\n",
    "    print(n,'is prime number')\n",
    "else:\n",
    "    print(n,'is not prime')\n",
    "    \n",
    "        "
   ]
  },
  {
   "cell_type": "markdown",
   "metadata": {},
   "source": [
    "## Task\n",
    "- Check the given number is Perfect or not\n",
    "- print table\n"
   ]
  },
  {
   "cell_type": "code",
   "execution_count": 6,
   "metadata": {},
   "outputs": [
    {
     "name": "stdout",
     "output_type": "stream",
     "text": [
      "7\n",
      "prime\n"
     ]
    }
   ],
   "source": [
    "n = int(input())\n",
    "c = 2\n",
    "for i in range(1,n+1):\n",
    "    if n%i ==0:\n",
    "        c =c - 1\n",
    "if c == 0:\n",
    "    print('prime')\n",
    "else:\n",
    "    print('not prime')\n",
    "        \n",
    "        "
   ]
  },
  {
   "cell_type": "code",
   "execution_count": 7,
   "metadata": {},
   "outputs": [
    {
     "name": "stdout",
     "output_type": "stream",
     "text": [
      "56\n"
     ]
    }
   ],
   "source": [
    "n = -56\n",
    "print(abs(n))"
   ]
  },
  {
   "cell_type": "code",
   "execution_count": null,
   "metadata": {},
   "outputs": [],
   "source": [
    "\n",
    "n = 5\n",
    "print()"
   ]
  },
  {
   "cell_type": "code",
   "execution_count": null,
   "metadata": {},
   "outputs": [],
   "source": []
  }
 ],
 "metadata": {
  "kernelspec": {
   "display_name": "Python 3",
   "language": "python",
   "name": "python3"
  },
  "language_info": {
   "codemirror_mode": {
    "name": "ipython",
    "version": 3
   },
   "file_extension": ".py",
   "mimetype": "text/x-python",
   "name": "python",
   "nbconvert_exporter": "python",
   "pygments_lexer": "ipython3",
   "version": "3.8.3"
  }
 },
 "nbformat": 4,
 "nbformat_minor": 4
}
